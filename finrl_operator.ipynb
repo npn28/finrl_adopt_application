{
 "cells": [
  {
   "cell_type": "code",
   "execution_count": 1,
   "id": "d2f0f424",
   "metadata": {},
   "outputs": [
    {
     "name": "stdout",
     "output_type": "stream",
     "text": [
      "\u001b[33mWARNING: Ignoring invalid distribution -ip (/usr/local/lib/python3.9/site-packages)\u001b[0m\n",
      "\u001b[33mWARNING: Ignoring invalid distribution - (/usr/local/lib/python3.9/site-packages)\u001b[0m\n",
      "Collecting alpaca_trade_api\n",
      "  Downloading alpaca_trade_api-1.2.2-py3-none-any.whl (40 kB)\n",
      "\u001b[K     |████████████████████████████████| 40 kB 1.7 MB/s eta 0:00:01\n",
      "\u001b[?25hRequirement already satisfied: urllib3<2,>1.24 in /usr/local/lib/python3.9/site-packages (from alpaca_trade_api) (1.26.5)\n",
      "Requirement already satisfied: websocket-client<2,>=0.56.0 in /Users/evienguyen/venv/lib/python3.9/site-packages (from alpaca_trade_api) (1.1.0)\n",
      "Collecting msgpack==1.0.2\n",
      "  Downloading msgpack-1.0.2-cp39-cp39-macosx_10_14_x86_64.whl (74 kB)\n",
      "\u001b[K     |████████████████████████████████| 74 kB 3.1 MB/s eta 0:00:01\n",
      "\u001b[?25hRequirement already satisfied: pandas in /usr/local/lib/python3.9/site-packages (from alpaca_trade_api) (1.2.4)\n",
      "Requirement already satisfied: requests<3,>2 in /usr/local/lib/python3.9/site-packages (from alpaca_trade_api) (2.25.1)\n",
      "Collecting websockets<10,>=8.0\n",
      "  Downloading websockets-9.1-cp39-cp39-macosx_10_9_x86_64.whl (88 kB)\n",
      "\u001b[K     |████████████████████████████████| 88 kB 6.8 MB/s  eta 0:00:01\n",
      "\u001b[?25hRequirement already satisfied: numpy in /usr/local/lib/python3.9/site-packages (from alpaca_trade_api) (1.20.2)\n",
      "Requirement already satisfied: chardet<5,>=3.0.2 in /usr/local/lib/python3.9/site-packages (from requests<3,>2->alpaca_trade_api) (4.0.0)\n",
      "Requirement already satisfied: idna<3,>=2.5 in /usr/local/lib/python3.9/site-packages (from requests<3,>2->alpaca_trade_api) (2.10)\n",
      "Requirement already satisfied: certifi>=2017.4.17 in /usr/local/lib/python3.9/site-packages (from requests<3,>2->alpaca_trade_api) (2021.5.30)\n",
      "Requirement already satisfied: pytz>=2017.3 in /usr/local/lib/python3.9/site-packages (from pandas->alpaca_trade_api) (2021.1)\n",
      "Requirement already satisfied: python-dateutil>=2.7.3 in /usr/local/lib/python3.9/site-packages (from pandas->alpaca_trade_api) (2.8.1)\n",
      "Requirement already satisfied: six>=1.5 in /usr/local/lib/python3.9/site-packages (from python-dateutil>=2.7.3->pandas->alpaca_trade_api) (1.15.0)\n",
      "\u001b[33mWARNING: Ignoring invalid distribution -ip (/usr/local/lib/python3.9/site-packages)\u001b[0m\n",
      "\u001b[33mWARNING: Ignoring invalid distribution - (/usr/local/lib/python3.9/site-packages)\u001b[0m\n",
      "Installing collected packages: websockets, msgpack, alpaca-trade-api\n",
      "Successfully installed alpaca-trade-api-1.2.2 msgpack-1.0.2 websockets-9.1\n"
     ]
    }
   ],
   "source": [
    "            # !pip install alpaca_trade_api"
   ]
  },
  {
   "cell_type": "code",
   "execution_count": 2,
   "id": "bb039e3f",
   "metadata": {},
   "outputs": [],
   "source": [
    "import alpaca_trade_api as api"
   ]
  },
  {
   "cell_type": "code",
   "execution_count": null,
   "id": "972b853f",
   "metadata": {},
   "outputs": [],
   "source": [
    "api = tradeapi.REST()\n"
   ]
  },
  {
   "cell_type": "code",
   "execution_count": 41,
   "id": "f4497978",
   "metadata": {},
   "outputs": [
    {
     "name": "stdout",
     "output_type": "stream",
     "text": [
      "/Users/evienguyen/Documents/FinRL/FinRL/finrl/results/actions_trade_ensemble_441.csv\n",
      "/Users/evienguyen/Documents/FinRL/FinRL/finrl/results/actions_trade_ensemble_504.csv\n",
      "/Users/evienguyen/Documents/FinRL/FinRL/finrl/results/actions_trade_ensemble_567.csv\n",
      "/Users/evienguyen/Documents/FinRL/FinRL/finrl/results/actions_trade_ensemble_630.csv\n",
      "/Users/evienguyen/Documents/FinRL/FinRL/finrl/results/actions_trade_ensemble_693.csv\n",
      "/Users/evienguyen/Documents/FinRL/FinRL/finrl/results/actions_trade_ensemble_756.csv\n",
      "/Users/evienguyen/Documents/FinRL/FinRL/finrl/results/actions_trade_ensemble_819.csv\n",
      "/Users/evienguyen/Documents/FinRL/FinRL/finrl/results/actions_trade_ensemble_882.csv\n",
      "/Users/evienguyen/Documents/FinRL/FinRL/finrl/results/actions_trade_ensemble_945.csv\n",
      "/Users/evienguyen/Documents/FinRL/FinRL/finrl/results/actions_trade_ensemble_1008.csv\n",
      "/Users/evienguyen/Documents/FinRL/FinRL/finrl/results/actions_trade_ensemble_1071.csv\n",
      "/Users/evienguyen/Documents/FinRL/FinRL/finrl/results/actions_trade_ensemble_1134.csv\n",
      "/Users/evienguyen/Documents/FinRL/FinRL/finrl/results/actions_trade_ensemble_1197.csv\n",
      "/Users/evienguyen/Documents/FinRL/FinRL/finrl/results/actions_trade_ensemble_1260.csv\n",
      "/Users/evienguyen/Documents/FinRL/FinRL/finrl/results/actions_trade_ensemble_126.csv\n",
      "/Users/evienguyen/Documents/FinRL/FinRL/finrl/results/actions_trade_ensemble_189.csv\n",
      "/Users/evienguyen/Documents/FinRL/FinRL/finrl/results/actions_trade_ensemble_252.csv\n",
      "/Users/evienguyen/Documents/FinRL/FinRL/finrl/results/actions_trade_ensemble_315.csv\n",
      "/Users/evienguyen/Documents/FinRL/FinRL/finrl/results/actions_trade_ensemble_378.csv\n"
     ]
    }
   ],
   "source": [
    "import os\n",
    "files = glob.glob('/Users/evienguyen/Documents/FinRL/FinRL/finrl/results/actions_trade_ensemble*')\n",
    "files.sort(key=os.path.getmtime)\n",
    "\n",
    "action_trade =  sorted(files,key=os.path.getmtime)[-1]"
   ]
  },
  {
   "cell_type": "code",
   "execution_count": 10,
   "id": "2eee93c6",
   "metadata": {},
   "outputs": [],
   "source": [
    "import pandas as pd\n",
    "\n",
    "actions_trade = pd.read_csv('/Users/evienguyen/Documents/FinRL/FinRL/results/actions_trade_ensemble_1260.csv')"
   ]
  },
  {
   "cell_type": "code",
   "execution_count": 34,
   "id": "346ce47c",
   "metadata": {},
   "outputs": [
    {
     "data": {
      "text/plain": [
       "100"
      ]
     },
     "execution_count": 34,
     "metadata": {},
     "output_type": "execute_result"
    }
   ],
   "source": [
    "for ticker in actions_trade.columns:\n",
    "    if actions_trade.iloc[-1][ticker] > 0:\n",
    "        api.submit_order(\n",
    "            symbol=ticker,\n",
    "            qty=actions_trade.iloc[-1][ticker],\n",
    "            side='buy',\n",
    "            type='market',\n",
    "            time_in_force='gtc'\n",
    "        )\n",
    "    elif actions_trade.iloc[-1][ticker] < 0:\n",
    "        api.submit_order(\n",
    "            symbol=ticker,\n",
    "            qty= actions_trade.iloc[-1][ticker],\n",
    "            side='sell',\n",
    "            type='market',\n",
    "            time_in_force='gtc'\n",
    "        )"
   ]
  }
 ],
 "metadata": {
  "kernelspec": {
   "display_name": "Python 3",
   "language": "python",
   "name": "python3"
  },
  "language_info": {
   "codemirror_mode": {
    "name": "ipython",
    "version": 3
   },
   "file_extension": ".py",
   "mimetype": "text/x-python",
   "name": "python",
   "nbconvert_exporter": "python",
   "pygments_lexer": "ipython3",
   "version": "3.9.1"
  }
 },
 "nbformat": 4,
 "nbformat_minor": 5
}
